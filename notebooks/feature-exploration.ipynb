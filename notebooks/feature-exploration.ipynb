{
 "cells": [
  {
   "cell_type": "markdown",
   "metadata": {},
   "source": [
    "# Feature exploration"
   ]
  },
  {
   "cell_type": "markdown",
   "metadata": {},
   "source": [
    "## Setup"
   ]
  },
  {
   "cell_type": "code",
   "execution_count": null,
   "metadata": {},
   "outputs": [],
   "source": [
    "import os\n",
    "from dotenv import load_dotenv\n",
    "from tqdm import tqdm\n",
    "import pandas as pd\n",
    "import sqlalchemy\n",
    "\n",
    "load_dotenv();"
   ]
  },
  {
   "cell_type": "code",
   "execution_count": null,
   "metadata": {},
   "outputs": [],
   "source": [
    "engine = sqlalchemy.create_engine(\n",
    "    'postgres+psycopg2://{username}:{password}@{host}/{dbname}'\n",
    "    .format(\n",
    "        username=os.environ.get(\"POSTGRES_USER\"),\n",
    "        password=os.environ.get(\"POSTGRES_PW\"),\n",
    "        host=os.environ.get(\"POSTGRES_HOST\"),\n",
    "        dbname=\"nba\",\n",
    "    )\n",
    ")"
   ]
  },
  {
   "cell_type": "markdown",
   "metadata": {},
   "source": [
    "## Target variables\n",
    "\n",
    "Targets: assists, 2pt fg, 3pt fg, ftm, rebounds, steals, blocks, turnovers, fantasy points"
   ]
  },
  {
   "cell_type": "markdown",
   "metadata": {},
   "source": [
    "### Data quality checks"
   ]
  },
  {
   "cell_type": "code",
   "execution_count": null,
   "metadata": {},
   "outputs": [],
   "source": [
    "# missing game logs\n",
    "with engine.connect() as conn:\n",
    "    sqlq = \"\"\"\n",
    "        select\n",
    "            season, count(*)\n",
    "        from games as gm\n",
    "        where\n",
    "            not exists (\n",
    "                select * from player_gamelogs as gl\n",
    "                where gl.game_id = gm.id\n",
    "            )\n",
    "            and gm.playedStatus = 'COMPLETED'\n",
    "        group by 1\n",
    "        order by 1\n",
    "    \"\"\"\n",
    "    missing_games = pd.read_sql(sqlq, conn)"
   ]
  },
  {
   "cell_type": "code",
   "execution_count": null,
   "metadata": {},
   "outputs": [],
   "source": [
    "missing_games"
   ]
  },
  {
   "cell_type": "markdown",
   "metadata": {},
   "source": [
    "### Targets"
   ]
  },
  {
   "cell_type": "code",
   "execution_count": null,
   "metadata": {},
   "outputs": [],
   "source": [
    "with engine.connect() as conn:\n",
    "    sqlq = \"\"\"\n",
    "        with stats as (\n",
    "            select\n",
    "                  gm.season\n",
    "                , gm.starttime\n",
    "                , gl.game_id\n",
    "                , gl.team_id\n",
    "                , gl.player_id\n",
    "                , gl.stats_fieldgoals_fg2ptmade as fgm_2p\n",
    "                , gl.stats_fieldgoals_fg3ptmade as fgm_3p\n",
    "                , gl.stats_freethrows_ftmade as ftm\n",
    "                , gl.stats_rebounds_reb as trb\n",
    "                , gl.stats_offense_astpergame as ast\n",
    "                , gl.stats_defense_stl as stl\n",
    "                , gl.stats_defense_blk as blk\n",
    "                , gl.stats_defense_tov as tov\n",
    "                , gl.stats_miscellaneous_minseconds as secs\n",
    "            from public.player_gamelogs as gl\n",
    "            join public.games as gm\n",
    "                on gl.game_id = gm.id\n",
    "        )\n",
    "        select\n",
    "            *\n",
    "            , coalesce(fgm_2p, 0) * 2\n",
    "                + coalesce(fgm_3p, 0) * 3\n",
    "                + coalesce(ftm, 0)\n",
    "                + coalesce(trb, 0) * 1.2\n",
    "                + coalesce(ast, 0) * 1.5\n",
    "                + coalesce(blk, 0) * 3\n",
    "                + coalesce(stl, 0) * 3\n",
    "                - coalesce(tov, 0)\n",
    "                as fanduel_fpts\n",
    "        from stats\n",
    "        order by player_id, starttime\n",
    "    \"\"\"\n",
    "    target = pd.read_sql(sqlq, conn)"
   ]
  },
  {
   "cell_type": "code",
   "execution_count": null,
   "metadata": {},
   "outputs": [],
   "source": [
    "target.groupby([\"season\"]).apply(lambda x: x.describe())"
   ]
  },
  {
   "cell_type": "markdown",
   "metadata": {},
   "source": [
    "## Trends in stats"
   ]
  },
  {
   "cell_type": "code",
   "execution_count": null,
   "metadata": {},
   "outputs": [],
   "source": [
    "def rolling_avg(df, stats, window):\n",
    "    avgs = (\n",
    "        df\n",
    "        .groupby([\"player_id\"])\n",
    "        .apply(\n",
    "            lambda x: \n",
    "               x\n",
    "               .shift(1)[stats]\n",
    "               .rolling(window=window)\n",
    "               .mean()\n",
    "               .rename(columns=lambda col: f\"{col}_{window}g_avg\")\n",
    "        )\n",
    "    )\n",
    "    return df[[\"player_id\", \"team_id\", \"game_id\"]].join(avgs)"
   ]
  },
  {
   "cell_type": "code",
   "execution_count": null,
   "metadata": {},
   "outputs": [],
   "source": [
    "columns = ['fgm_2p', 'fgm_3p', 'ftm', 'trb', 'ast', 'stl', 'blk', 'tov', 'fanduel_fpts', 'secs']\n",
    "last_game, rolling_3gm, rolling_9gm, rolling_27gm = (\n",
    "    rolling_avg(target, columns, win)\n",
    "    for win in (1, 3, 9, 27)\n",
    ")"
   ]
  },
  {
   "cell_type": "markdown",
   "metadata": {},
   "source": [
    "## Opponent allowed stats"
   ]
  },
  {
   "cell_type": "code",
   "execution_count": null,
   "metadata": {},
   "outputs": [],
   "source": [
    "# team game stats\n",
    "# rolling average game stats\n",
    "# joined to player-game data"
   ]
  },
  {
   "cell_type": "markdown",
   "metadata": {},
   "source": [
    "## Combine Features"
   ]
  },
  {
   "cell_type": "code",
   "execution_count": null,
   "metadata": {},
   "outputs": [],
   "source": [
    "combined = (\n",
    "    target\n",
    "    .join(last_game.pipe(lambda x: x[[col for col in x.columns if col not in target.columns]]))\n",
    "    .join(rolling_3gm.pipe(lambda x: x[[col for col in x.columns if col not in target.columns]]))\n",
    "    .join(rolling_9gm.pipe(lambda x: x[[col for col in x.columns if col not in target.columns]]))\n",
    "    .join(rolling_27gm.pipe(lambda x: x[[col for col in x.columns if col not in target.columns]]))\n",
    "    .loc[lambda x: x[\"season\"] != '2016-2017-regular']\n",
    ")"
   ]
  },
  {
   "cell_type": "markdown",
   "metadata": {},
   "source": [
    "## Build model"
   ]
  },
  {
   "cell_type": "code",
   "execution_count": null,
   "metadata": {},
   "outputs": [],
   "source": [
    "from catboost import CatBoostRegressor, Pool"
   ]
  },
  {
   "cell_type": "code",
   "execution_count": null,
   "metadata": {},
   "outputs": [],
   "source": [
    "import numpy as np"
   ]
  },
  {
   "cell_type": "code",
   "execution_count": null,
   "metadata": {},
   "outputs": [],
   "source": [
    "games = combined[\"game_id\"].unique()\n",
    "np.random.shuffle(games)\n",
    "\n",
    "eval_games = games[0:len(games)//10]\n",
    "test_games = games[len(games)//10:len(games)//5]\n",
    "train_games = games[len(games)//5:]"
   ]
  },
  {
   "cell_type": "code",
   "execution_count": null,
   "metadata": {},
   "outputs": [],
   "source": [
    "train_df = combined.loc[lambda x: x[\"game_id\"].isin(train_games)]\n",
    "train_pool = Pool(\n",
    "    data=train_df.pipe(lambda x: x[[col for col in x.columns if col not in target.columns]]),\n",
    "    label=train_df[\"fanduel_fpts\"],\n",
    ")\n",
    "\n",
    "eval_df = combined.loc[lambda x: x[\"game_id\"].isin(eval_games)]\n",
    "eval_pool = Pool(\n",
    "    data=eval_df.pipe(lambda x: x[[col for col in x.columns if col not in target.columns]]),\n",
    "    label=eval_df[\"fanduel_fpts\"],\n",
    ")\n",
    "\n",
    "test_df = combined.loc[lambda x: x[\"game_id\"].isin(test_games)]\n",
    "test_pool = Pool(\n",
    "    data=test_df.pipe(lambda x: x[[col for col in x.columns if col not in target.columns]]),\n",
    "    label=test_df[\"fanduel_fpts\"],\n",
    ")\n",
    "\n",
    "model = CatBoostRegressor()\n",
    "model = model.fit(train_pool, eval_set=eval_pool, verbose=100)"
   ]
  },
  {
   "cell_type": "code",
   "execution_count": null,
   "metadata": {},
   "outputs": [],
   "source": [
    "model.score(test_pool)"
   ]
  },
  {
   "cell_type": "code",
   "execution_count": null,
   "metadata": {},
   "outputs": [],
   "source": [
    "test_df[\"prediction\"] = model.predict(test_pool)"
   ]
  },
  {
   "cell_type": "code",
   "execution_count": null,
   "metadata": {},
   "outputs": [],
   "source": [
    "test_df.plot(x=\"fanduel_fpts\", y=\"prediction\", kind=\"scatter\")"
   ]
  }
 ],
 "metadata": {
  "kernelspec": {
   "display_name": "Python [conda env:airjordan]",
   "language": "python",
   "name": "conda-env-airjordan-py"
  },
  "language_info": {
   "codemirror_mode": {
    "name": "ipython",
    "version": 3
   },
   "file_extension": ".py",
   "mimetype": "text/x-python",
   "name": "python",
   "nbconvert_exporter": "python",
   "pygments_lexer": "ipython3",
   "version": "3.7.9"
  }
 },
 "nbformat": 4,
 "nbformat_minor": 4
}
