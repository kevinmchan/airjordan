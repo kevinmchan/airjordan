{
 "cells": [
  {
   "cell_type": "markdown",
   "metadata": {},
   "source": [
    "# Dataload pipeline"
   ]
  },
  {
   "cell_type": "markdown",
   "metadata": {},
   "source": [
    "## Setup"
   ]
  },
  {
   "cell_type": "code",
   "execution_count": null,
   "metadata": {},
   "outputs": [],
   "source": [
    "import os\n",
    "from dotenv import load_dotenv\n",
    "from ohmysportsfeedspy import MySportsFeeds\n",
    "import json\n",
    "from datetime import datetime\n",
    "import pytz\n",
    "from tqdm import tqdm\n",
    "from airflow.models import Variable\n",
    "import pandas as pd\n",
    "import sqlalchemy\n",
    "\n",
    "load_dotenv();"
   ]
  },
  {
   "cell_type": "code",
   "execution_count": null,
   "metadata": {},
   "outputs": [],
   "source": [
    "POSTGRES_USER = Variable.get(\"POSTGRES_USER\")\n",
    "POSTGRES_PW = Variable.get(\"POSTGRES_PW\")\n",
    "POSTGRES_HOST = Variable.get(\"POSTGRES_HOST\")\n",
    "MSF_API_KEY = Variable.get(\"MSF_API_KEY\")\n",
    "postgres_connection_str = f'postgres+psycopg2://{POSTGRES_USER}:{POSTGRES_PW}@{POSTGRES_HOST}/nba'\n",
    "\n",
    "engine = sqlalchemy.create_engine(postgres_connection_str)"
   ]
  },
  {
   "cell_type": "code",
   "execution_count": null,
   "metadata": {},
   "outputs": [],
   "source": [
    "msf = MySportsFeeds(version=\"2.1\")\n",
    "msf.authenticate(MSF_API_KEY, \"MYSPORTSFEEDS\")"
   ]
  },
  {
   "cell_type": "code",
   "execution_count": null,
   "metadata": {},
   "outputs": [],
   "source": [
    "def flatten(d,sep=\"_\"):\n",
    "    import collections\n",
    "\n",
    "    obj = {}\n",
    "\n",
    "    def recurse(t,parent_key=\"\"):\n",
    "        \n",
    "        if isinstance(t,list):\n",
    "            for i in range(len(t)):\n",
    "                recurse(t[i],parent_key + sep + str(i) if parent_key else str(i))\n",
    "        elif isinstance(t,dict):\n",
    "            for k,v in t.items():\n",
    "                recurse(v,parent_key + sep + k if parent_key else k)\n",
    "        else:\n",
    "            obj[parent_key] = t\n",
    "\n",
    "    recurse(d)\n",
    "\n",
    "    return obj"
   ]
  },
  {
   "cell_type": "markdown",
   "metadata": {},
   "source": [
    "## Parameters"
   ]
  },
  {
   "cell_type": "code",
   "execution_count": null,
   "metadata": {},
   "outputs": [],
   "source": [
    "season = \"2016-2017-regular\""
   ]
  },
  {
   "cell_type": "code",
   "execution_count": null,
   "metadata": {},
   "outputs": [],
   "source": [
    "last_n_days = 1_000"
   ]
  },
  {
   "cell_type": "markdown",
   "metadata": {},
   "source": [
    "## Season games"
   ]
  },
  {
   "cell_type": "markdown",
   "metadata": {},
   "source": [
    "### Download games"
   ]
  },
  {
   "cell_type": "code",
   "execution_count": null,
   "metadata": {},
   "outputs": [],
   "source": [
    "output = msf.msf_get_data(league='nba', season=season, feed='seasonal_games', format='json', force=True)"
   ]
  },
  {
   "cell_type": "markdown",
   "metadata": {},
   "source": [
    "### Parse output"
   ]
  },
  {
   "cell_type": "code",
   "execution_count": null,
   "metadata": {},
   "outputs": [],
   "source": [
    "upload = [\n",
    "    {\n",
    "        \"season\": season,\n",
    "        **flatten({\n",
    "            key: value for key, value in game[\"schedule\"].items()\n",
    "            if key not in (\"officials\", \"broadcasters\")\n",
    "        }),\n",
    "        **flatten({\n",
    "            key: value for key, value in game[\"score\"].items()\n",
    "            if key not in (\"quarters\",)\n",
    "        }),\n",
    "        \"quarters\": game[\"score\"][\"quarters\"],\n",
    "        \"officials\": game[\"schedule\"][\"officials\"],\n",
    "        \"broadcasters\": game[\"schedule\"][\"broadcasters\"]\n",
    "    } for game in output[\"games\"]\n",
    "]"
   ]
  },
  {
   "cell_type": "markdown",
   "metadata": {},
   "source": [
    "### Create table"
   ]
  },
  {
   "cell_type": "code",
   "execution_count": null,
   "metadata": {},
   "outputs": [],
   "source": [
    "# with engine.connect() as conn:\n",
    "#     sqlq = \"\"\"\n",
    "#         CREATE TABLE IF NOT EXISTS public.games\n",
    "#         (\n",
    "#             season text,\n",
    "#             id bigint,\n",
    "#             startTime timestamp with time zone,\n",
    "#             endedTime timestamp with time zone,\n",
    "#             awayTeam_id bigint,\n",
    "#             awayTeam_abbreviation text,\n",
    "#             homeTeam_id bigint,\n",
    "#             homeTeam_abbreviation text,\n",
    "#             venue_id bigint,\n",
    "#             venue_name text,\n",
    "#             venueAllegiance text,\n",
    "#             scheduleStatus text,\n",
    "#             originalStartTime timestamp with time zone,\n",
    "#             delayedOrPostponedReason text,\n",
    "#             playedStatus text,\n",
    "#             attendance bigint,\n",
    "#             weather_type text,\n",
    "#             weather_description text,\n",
    "#             weather_wind_speed_milesPerHour bigint,\n",
    "#             weather_wind_speed_kilometersPerHour bigint,\n",
    "#             weather_wind_direction_degrees bigint,\n",
    "#             weather_wind_direction_label text,\n",
    "#             weather_temperature_fahrenheit bigint,\n",
    "#             weather_temperature_celsius bigint,\n",
    "#             weather_precipitation_type text,\n",
    "#             weather_precipitation_percent text,\n",
    "#             weather_precipitation_amount_millimeters double precision,\n",
    "#             weather_precipitation_amount_centimeters text,\n",
    "#             weather_precipitation_amount_inches text,\n",
    "#             weather_precipitation_amount_feet text,\n",
    "#             weather_humidityPercent bigint,\n",
    "#             currentQuarter text,\n",
    "#             currentQuarterSecondsRemaining text,\n",
    "#             currentIntermission text,\n",
    "#             awayScoreTotal bigint,\n",
    "#             homeScoreTotal bigint,\n",
    "#             quarters jsonb,\n",
    "#             officials jsonb,\n",
    "#             broadcasters jsonb\n",
    "#         );\n",
    "#     \"\"\"\n",
    "#     conn.execute(sqlq)"
   ]
  },
  {
   "cell_type": "markdown",
   "metadata": {},
   "source": [
    "### Upload to postgres"
   ]
  },
  {
   "cell_type": "code",
   "execution_count": null,
   "metadata": {},
   "outputs": [],
   "source": [
    "with engine.begin() as conn:\n",
    "    conn.execute(\"delete from games where season = %s\", (season,))\n",
    "    for game in tqdm(upload):\n",
    "        game = {key: value for key, value in game.items() if value is not None}\n",
    "        conn.execute(\n",
    "            \"insert into games ({columns}) values ({values})\".format(\n",
    "                columns=\", \".join(game.keys()),\n",
    "                values=\", \".join([\"%s\"] * len(game))\n",
    "            ),\n",
    "            tuple(json.dumps(x) if type(x) in (dict, list) else x for x in game.values())\n",
    "        )"
   ]
  },
  {
   "cell_type": "markdown",
   "metadata": {},
   "source": [
    "## Game logs"
   ]
  },
  {
   "cell_type": "markdown",
   "metadata": {},
   "source": [
    "### Get game dates"
   ]
  },
  {
   "cell_type": "code",
   "execution_count": null,
   "metadata": {},
   "outputs": [],
   "source": [
    "with engine.connect() as conn:\n",
    "    sqlq = \"\"\"\n",
    "        with completed_games as (\n",
    "            select\n",
    "                distinct (starttime at time zone 'EST')::date as game_date\n",
    "            from games\n",
    "            where playedStatus = 'COMPLETED'\n",
    "            and season = %s\n",
    "        )\n",
    "        , date_rank as (\n",
    "            select\n",
    "                game_date\n",
    "                , row_number() over(order by game_date desc) as date_rank\n",
    "            from\n",
    "                completed_games\n",
    "        )\n",
    "        select game_date\n",
    "        from date_rank\n",
    "        where date_rank <= %s\n",
    "        order by 1 desc;\n",
    "    \"\"\"\n",
    "    completed_game_dates = list(map(lambda x: x[0], conn.execute(sqlq, (season, last_n_days)).fetchall()))"
   ]
  },
  {
   "cell_type": "markdown",
   "metadata": {},
   "source": [
    "### Download games"
   ]
  },
  {
   "cell_type": "code",
   "execution_count": null,
   "metadata": {},
   "outputs": [],
   "source": [
    "output = [\n",
    "    msf.msf_get_data(league='nba', season=season, feed='daily_player_gamelogs', date=game_date.strftime(\"%Y%m%d\"), format='json', force=True)\n",
    "    for game_date in tqdm(completed_game_dates)\n",
    "]"
   ]
  },
  {
   "cell_type": "markdown",
   "metadata": {},
   "source": [
    "### Parse output"
   ]
  },
  {
   "cell_type": "code",
   "execution_count": null,
   "metadata": {},
   "outputs": [],
   "source": [
    "upload = [\n",
    "    flatten(log)\n",
    "    for day in output for log in day[\"gamelogs\"]\n",
    "]"
   ]
  },
  {
   "cell_type": "markdown",
   "metadata": {},
   "source": [
    "### Create table"
   ]
  },
  {
   "cell_type": "code",
   "execution_count": null,
   "metadata": {},
   "outputs": [],
   "source": [
    "# with engine.connect() as conn:\n",
    "#     pd.DataFrame(upload).to_sql(\"gamelogs\", conn, index=False, if_exists=\"replace\")"
   ]
  },
  {
   "cell_type": "markdown",
   "metadata": {},
   "source": [
    "### Upload to postgres"
   ]
  },
  {
   "cell_type": "code",
   "execution_count": null,
   "metadata": {},
   "outputs": [],
   "source": [
    "with engine.begin() as conn:\n",
    "    for gamelog in tqdm(upload):\n",
    "        gamelog = {key: value for key, value in gamelog.items() if value is not None}\n",
    "        conn.execute(\n",
    "            \"delete from player_gamelogs where game_id = %s and player_id = %s and team_id = %s\",\n",
    "            (gamelog[\"game_id\"], gamelog[\"player_id\"], gamelog[\"team_id\"])\n",
    "        )\n",
    "        conn.execute(\n",
    "            \"insert into player_gamelogs ({columns}) values ({values})\".format(\n",
    "                columns=\", \".join(gamelog.keys()),\n",
    "                values=\", \".join([\"%s\"] * len(gamelog))\n",
    "            ),\n",
    "            tuple(gamelog.values())\n",
    "        )"
   ]
  },
  {
   "cell_type": "markdown",
   "metadata": {},
   "source": [
    "## Game lineup"
   ]
  },
  {
   "cell_type": "markdown",
   "metadata": {},
   "source": [
    "### Game game ids"
   ]
  },
  {
   "cell_type": "code",
   "execution_count": null,
   "metadata": {},
   "outputs": [],
   "source": [
    "with engine.connect() as conn:\n",
    "    sqlq = \"\"\"\n",
    "        with season_games as (\n",
    "            select *\n",
    "            from games\n",
    "            where season = %s\n",
    "        )\n",
    "        , completed_games as (\n",
    "            select\n",
    "                distinct (starttime at time zone 'EST')::date as game_date\n",
    "            from season_games\n",
    "            where playedStatus = 'COMPLETED'\n",
    "        )\n",
    "        , date_rank as (\n",
    "            select\n",
    "                game_date\n",
    "                , row_number() over(order by game_date desc) as date_rank\n",
    "            from\n",
    "                completed_games\n",
    "        )\n",
    "        select distinct id\n",
    "        from season_games\n",
    "        where\n",
    "            (starttime at time zone 'EST')::date\n",
    "                >= coalesce(\n",
    "                    (select min(game_date) from date_rank where date_rank <= %s),\n",
    "                    '1970-01-01'\n",
    "                )\n",
    "        order by 1 desc;\n",
    "    \"\"\"\n",
    "    game_ids = list(map(lambda x: x[0], conn.execute(sqlq, (season, last_n_days)).fetchall()))"
   ]
  },
  {
   "cell_type": "markdown",
   "metadata": {},
   "source": [
    "### Download game lineups"
   ]
  },
  {
   "cell_type": "code",
   "execution_count": null,
   "metadata": {},
   "outputs": [],
   "source": [
    "output = [\n",
    "    msf.msf_get_data(league='nba', season=season, feed='game_lineup', game=game_id, format='json', force=True)\n",
    "    for game_id in tqdm(game_ids)\n",
    "]"
   ]
  },
  {
   "cell_type": "markdown",
   "metadata": {},
   "source": [
    "### Parse output"
   ]
  },
  {
   "cell_type": "code",
   "execution_count": null,
   "metadata": {},
   "outputs": [],
   "source": [
    "def parse_game(game):\n",
    "    output = {key: game.get(key) for key in game.keys() if key not in (\"broadcasters\", \"officials\")}\n",
    "    output = flatten(output)\n",
    "    output[\"game_id\"] = output.pop(\"id\")\n",
    "    return output\n",
    "\n",
    "def parse_team(team):\n",
    "    output = flatten(team)\n",
    "    output[\"team_id\"] = output.pop(\"id\")\n",
    "    output[\"team_abbreviation\"] = output.pop(\"abbreviation\")\n",
    "    return output\n",
    "\n",
    "def parse_lineup(lineup):\n",
    "    print(lineup)\n",
    "    team = flatten(lineup[\"team\"])\n",
    "    output = {**team}\n",
    "    return output\n",
    "\n",
    "upload = [\n",
    "    {**parse_game(game[\"game\"]), **parse_team(home_away[\"team\"]), \"type\": expected_actual, **flatten(player)}\n",
    "    for game in output\n",
    "    for home_away in game[\"teamLineups\"]\n",
    "    for expected_actual in (\"expected\", \"actual\") if home_away[expected_actual] is not None\n",
    "    for player in home_away[expected_actual][\"lineupPositions\"] if player[\"player\"] is not None\n",
    "#     for game_id in tqdm([33974])\n",
    "]"
   ]
  },
  {
   "cell_type": "markdown",
   "metadata": {},
   "source": [
    "### Create table"
   ]
  },
  {
   "cell_type": "code",
   "execution_count": null,
   "metadata": {},
   "outputs": [],
   "source": [
    "# with engine.connect() as conn:\n",
    "#     pd.DataFrame(upload).to_sql(\"lineups\", conn, index=False, if_exists=\"replace\")"
   ]
  },
  {
   "cell_type": "markdown",
   "metadata": {},
   "source": [
    "### Upload to postgres"
   ]
  },
  {
   "cell_type": "code",
   "execution_count": null,
   "metadata": {},
   "outputs": [],
   "source": [
    "with engine.begin() as conn:\n",
    "    for player in tqdm(upload):\n",
    "        player = {key: value for key, value in player.items() if value is not None}\n",
    "        conn.execute(\n",
    "            \"delete from lineups where game_id = %s and player_id = %s and team_id = %s\",\n",
    "            (player[\"game_id\"], player[\"player_id\"], player[\"team_id\"])\n",
    "        )\n",
    "        conn.execute(\n",
    "            \"insert into lineups ({columns}) values ({values})\".format(\n",
    "                columns=\", \".join(player.keys()),\n",
    "                values=\", \".join([\"%s\"] * len(player))\n",
    "            ),\n",
    "            tuple(player.values())\n",
    "        )"
   ]
  },
  {
   "cell_type": "markdown",
   "metadata": {},
   "source": [
    "## DFS"
   ]
  },
  {
   "cell_type": "markdown",
   "metadata": {},
   "source": [
    "### Get game dates"
   ]
  },
  {
   "cell_type": "code",
   "execution_count": null,
   "metadata": {},
   "outputs": [],
   "source": [
    "with engine.connect() as conn:\n",
    "    sqlq = \"\"\"\n",
    "        with season_games as (\n",
    "            select *\n",
    "            from games\n",
    "            where season = %s\n",
    "        )\n",
    "        , completed_games as (\n",
    "            select\n",
    "                distinct (starttime at time zone 'EST')::date as game_date\n",
    "            from season_games\n",
    "            where playedStatus = 'COMPLETED'\n",
    "        )\n",
    "        , date_rank as (\n",
    "            select\n",
    "                game_date\n",
    "                , row_number() over(order by game_date desc) as date_rank\n",
    "            from\n",
    "                completed_games\n",
    "        )\n",
    "        select distinct (starttime at time zone 'EST')::date as game_date\n",
    "        from season_games\n",
    "        where\n",
    "            (starttime at time zone 'EST')::date\n",
    "                >= coalesce(\n",
    "                    (select min(game_date) from date_rank where date_rank <= %s),\n",
    "                    '1970-01-01'\n",
    "                )\n",
    "        order by 1 desc;\n",
    "    \"\"\"\n",
    "    game_dates = list(map(lambda x: x[0], conn.execute(sqlq, (season, last_n_days)).fetchall()))"
   ]
  },
  {
   "cell_type": "markdown",
   "metadata": {},
   "source": [
    "### Download DFS"
   ]
  },
  {
   "cell_type": "code",
   "execution_count": null,
   "metadata": {},
   "outputs": [],
   "source": [
    "output = [\n",
    "    msf.msf_get_data(league='nba', season=season, feed='daily_dfs', date=game_date.strftime(\"%Y%m%d\"), format='json', force=True)\n",
    "    for game_date in tqdm(game_dates)\n",
    "]\n",
    "output = [x for x in output if x.get(\"sources\") is not None]"
   ]
  },
  {
   "cell_type": "markdown",
   "metadata": {},
   "source": [
    "### Parse output"
   ]
  },
  {
   "cell_type": "code",
   "execution_count": null,
   "metadata": {},
   "outputs": [],
   "source": [
    "upload = [\n",
    "    {\n",
    "        \"source\": source[\"source\"],\n",
    "        \"slate_minGameStart\": slate[\"minGameStart\"],\n",
    "        \"slate_date\": slate[\"forDate\"],\n",
    "        \"slate_id\": str(slate[\"identifier\"]),\n",
    "        \"label\": slate[\"label\"],\n",
    "        \"player_id\": player[\"player\"][\"id\"],\n",
    "        \"rosterSlots\": player[\"rosterSlots\"],\n",
    "    }\n",
    "    for day in output\n",
    "    for source in day[\"sources\"]\n",
    "    for slate in source[\"slates\"]\n",
    "    for player in slate[\"players\"] if player[\"player\"] is not None\n",
    "]"
   ]
  },
  {
   "cell_type": "markdown",
   "metadata": {},
   "source": [
    "### Create table"
   ]
  },
  {
   "cell_type": "code",
   "execution_count": null,
   "metadata": {},
   "outputs": [],
   "source": [
    "# with engine.connect() as conn:\n",
    "#     sqlq = \"\"\"\n",
    "#         create table if not exists public.dfs\n",
    "#         (\n",
    "#             source text,\n",
    "#             slate_minGameStart timestamp with time zone,\n",
    "#             slate_date timestamp with time zone,\n",
    "#             slate_id bigint,\n",
    "#             label text,\n",
    "#             player_id bigint,\n",
    "#             rosterSlots text[]\n",
    "#         );\n",
    "#     \"\"\"\n",
    "#     conn.execute(sqlq)"
   ]
  },
  {
   "cell_type": "markdown",
   "metadata": {},
   "source": [
    "### Upload to postgres"
   ]
  },
  {
   "cell_type": "code",
   "execution_count": null,
   "metadata": {},
   "outputs": [],
   "source": [
    "with engine.begin() as conn:\n",
    "    for player in tqdm(upload):\n",
    "        conn.execute(\n",
    "            \"\"\"\n",
    "                delete from dfs\n",
    "                where\n",
    "                    source = %s and slate_id = %s and player_id = %s \n",
    "                    and slate_minGameStart = %s and slate_date = %s and label = %s\n",
    "            \"\"\",\n",
    "            (player[\"source\"], player[\"slate_id\"], player[\"player_id\"], player[\"slate_minGameStart\"], player[\"slate_date\"], player[\"label\"])\n",
    "        )\n",
    "        conn.execute(\n",
    "            \"insert into dfs ({columns}) values ({values})\".format(\n",
    "                columns=\", \".join(player.keys()),\n",
    "                values=\", \".join([\"%s\"] * len(player))\n",
    "            ),\n",
    "            [f\"{{{','.join(x)}}}\" if type(x) == list else x for x in player.values()]\n",
    "        )"
   ]
  },
  {
   "cell_type": "markdown",
   "metadata": {},
   "source": [
    "## Play-by-play"
   ]
  },
  {
   "cell_type": "markdown",
   "metadata": {},
   "source": [
    "### Game game ids"
   ]
  },
  {
   "cell_type": "code",
   "execution_count": null,
   "metadata": {},
   "outputs": [],
   "source": [
    "with engine.connect() as conn:\n",
    "    sqlq = \"\"\"\n",
    "        select distinct id\n",
    "        from games\n",
    "        where playedStatus = 'COMPLETED'\n",
    "        and season = %s\n",
    "        order by 1 desc;\n",
    "    \"\"\"\n",
    "    completed_game_ids = list(map(lambda x: x[0], conn.execute(sqlq, (season,)).fetchall()))"
   ]
  },
  {
   "cell_type": "markdown",
   "metadata": {},
   "source": [
    "### Download play by play"
   ]
  },
  {
   "cell_type": "code",
   "execution_count": null,
   "metadata": {},
   "outputs": [],
   "source": [
    "output = [\n",
    "    msf.msf_get_data(league='nba', season=season, feed='game_playbyplay', game=game_id, format='json', force=True)\n",
    "    for game_id in tqdm(completed_game_ids)\n",
    "]"
   ]
  },
  {
   "cell_type": "markdown",
   "metadata": {},
   "source": [
    "### Parse output"
   ]
  },
  {
   "cell_type": "code",
   "execution_count": null,
   "metadata": {},
   "outputs": [],
   "source": [
    "upload = [\n",
    "    {\n",
    "        \"game_id\": game[\"game\"][\"id\"],\n",
    "        \"playStatus\": play[\"playStatus\"],\n",
    "        \"description\": play[\"description\"],\n",
    "        \"playType\": [x for x in play.keys() if x not in (\"description\", \"playStatus\")][0],\n",
    "        \"play\": play[[x for x in play.keys() if x not in (\"description\", \"playStatus\")][0]],\n",
    "    }\n",
    "    for game in output\n",
    "    for play in game[\"plays\"]\n",
    "]"
   ]
  },
  {
   "cell_type": "markdown",
   "metadata": {},
   "source": [
    "### Create table"
   ]
  },
  {
   "cell_type": "code",
   "execution_count": null,
   "metadata": {},
   "outputs": [],
   "source": [
    "# with engine.connect() as conn:\n",
    "#     sqlq = \"\"\"\n",
    "#         create table if not exists public.playbyplay\n",
    "#         (\n",
    "#             game_id bigint,\n",
    "#             description text,\n",
    "#             playType text,\n",
    "#             playStatus json,\n",
    "#             play json\n",
    "#         );\n",
    "#     \"\"\"\n",
    "#     conn.execute(sqlq)"
   ]
  },
  {
   "cell_type": "markdown",
   "metadata": {},
   "source": [
    "### Upload to postgres"
   ]
  },
  {
   "cell_type": "code",
   "execution_count": null,
   "metadata": {},
   "outputs": [],
   "source": [
    "with engine.begin() as conn:\n",
    "    for play in tqdm(upload):\n",
    "        conn.execute(\n",
    "            \"delete from playbyplay where game_id = %s\", (play[\"game_id\"],)\n",
    "        )\n",
    "        conn.execute(\n",
    "            \"insert into playbyplay ({columns}) values ({values})\".format(\n",
    "                columns=\", \".join(play.keys()),\n",
    "                values=\", \".join([\"%s\"] * len(play))\n",
    "            ),\n",
    "            tuple(json.dumps(x) if type(x) == dict else x for x in play.values())\n",
    "        )"
   ]
  },
  {
   "cell_type": "markdown",
   "metadata": {},
   "source": [
    "## Players"
   ]
  },
  {
   "cell_type": "markdown",
   "metadata": {},
   "source": [
    "### Download players"
   ]
  },
  {
   "cell_type": "code",
   "execution_count": null,
   "metadata": {},
   "outputs": [],
   "source": [
    "output = msf.msf_get_data(league='nba', season=season, feed='players', format='json', force=True)"
   ]
  },
  {
   "cell_type": "markdown",
   "metadata": {},
   "source": [
    "### Parse output"
   ]
  },
  {
   "cell_type": "code",
   "execution_count": null,
   "metadata": {},
   "outputs": [],
   "source": [
    "upload = [\n",
    "    {\n",
    "        **flatten({\n",
    "            key: value \n",
    "            for key, value in player[\"player\"].items()\n",
    "            if key not in (\"externalMappings\", \"socialMediaAccounts\")\n",
    "        }),\n",
    "        \"externalMappings\": {src[\"source\"]: src[\"id\"] for src in player[\"player\"].get(\"externalMappings\", [])},\n",
    "        \"socialMediaAccounts\": {media[\"mediaType\"]: media[\"value\"] for media in player[\"player\"].get(\"socialMediaAccounts\", [])},\n",
    "    }\n",
    "    for player in output[\"players\"]\n",
    "]"
   ]
  },
  {
   "cell_type": "markdown",
   "metadata": {},
   "source": [
    "### Create table"
   ]
  },
  {
   "cell_type": "code",
   "execution_count": null,
   "metadata": {},
   "outputs": [],
   "source": [
    "# with engine.connect() as conn:\n",
    "#     sqlq = \"\"\"\n",
    "#         create table if not exists public.players\n",
    "#         (\n",
    "#             id bigint,\n",
    "#             firstName text,\n",
    "#             lastName text,\n",
    "#             primaryPosition text,\n",
    "#             jerseyNumber bigint,\n",
    "#             currentTeam_id bigint,\n",
    "#             currentTeam_abbreviation text,\n",
    "#             currentRosterStatus text,\n",
    "#             height text,\n",
    "#             weight bigint,\n",
    "#             birthDate date,\n",
    "#             age bigint,\n",
    "#             birthCity text,\n",
    "#             birthCountry text,\n",
    "#             rookie bool,\n",
    "#             highSchool text,\n",
    "#             college text,\n",
    "#             handedness_shoots text,\n",
    "#             officialImageSrc text,\n",
    "#             currentContractYear bigint,\n",
    "#             drafted_year bigint,\n",
    "#             drafted_team_id bigint,\n",
    "#             drafted_team_abbreviation text,\n",
    "#             drafted_pickTeam_id bigint,\n",
    "#             drafted_pickTeam_abbreviation text,\n",
    "#             drafted_round bigint,\n",
    "#             drafted_roundPick bigint,\n",
    "#             drafted_overallPick bigint,\n",
    "#             currentInjury_description text,\n",
    "#             currentInjury_playingProbability text,\n",
    "#             externalMappings json,\n",
    "#             socialMediaAccounts json\n",
    "#         );\n",
    "#     \"\"\"\n",
    "#     conn.execute(sqlq)"
   ]
  },
  {
   "cell_type": "markdown",
   "metadata": {},
   "source": [
    "### Upload to postgres"
   ]
  },
  {
   "cell_type": "code",
   "execution_count": null,
   "metadata": {},
   "outputs": [],
   "source": [
    "with engine.begin() as conn:\n",
    "    for player in tqdm(upload):\n",
    "        player = {key: value for key, value in player.items() if value is not None}\n",
    "        conn.execute(\n",
    "            \"delete from players where id = %s\",\n",
    "            (player[\"id\"],)\n",
    "        )\n",
    "        conn.execute(\n",
    "            \"insert into players ({columns}) values ({values})\".format(\n",
    "                columns=\", \".join(player.keys()),\n",
    "                values=\", \".join([\"%s\"] * len(player))\n",
    "            ),\n",
    "            tuple(json.dumps(x) if type(x) == dict else x for x in player.values())\n",
    "        )"
   ]
  },
  {
   "cell_type": "markdown",
   "metadata": {},
   "source": [
    "## Game Lines"
   ]
  },
  {
   "cell_type": "markdown",
   "metadata": {},
   "source": [
    "### Get game dates"
   ]
  },
  {
   "cell_type": "code",
   "execution_count": null,
   "metadata": {},
   "outputs": [],
   "source": [
    "with engine.connect() as conn:\n",
    "    sqlq = \"\"\"\n",
    "        select distinct (starttime at time zone 'EST')::date\n",
    "        from games\n",
    "        where season = %s\n",
    "        order by 1 desc;\n",
    "    \"\"\"\n",
    "    game_dates = list(map(lambda x: x[0], conn.execute(sqlq, (season,)).fetchall()))"
   ]
  },
  {
   "cell_type": "markdown",
   "metadata": {},
   "source": [
    "### Download game lines"
   ]
  },
  {
   "cell_type": "code",
   "execution_count": null,
   "metadata": {},
   "outputs": [],
   "source": [
    "output = [\n",
    "    msf.msf_get_data(league='nba', season=season, feed='daily_game_lines', date=game_date.strftime(\"%Y%m%d\"), format='json', force=True)\n",
    "    for game_date in tqdm(game_dates)\n",
    "]"
   ]
  },
  {
   "cell_type": "markdown",
   "metadata": {},
   "source": [
    "### Parse outputs"
   ]
  },
  {
   "cell_type": "code",
   "execution_count": null,
   "metadata": {},
   "outputs": [],
   "source": [
    "upload = [\n",
    "    {\n",
    "        \"game_id\": game[\"game\"][\"id\"],\n",
    "        \"source\": source[\"source\"][\"name\"],\n",
    "        \"moneyLines\": source[\"moneyLines\"],\n",
    "        \"pointSpreads\": source[\"pointSpreads\"],\n",
    "    }\n",
    "    for day in output\n",
    "    for game in day[\"gameLines\"]\n",
    "    for source in game[\"lines\"]\n",
    "]"
   ]
  },
  {
   "cell_type": "markdown",
   "metadata": {},
   "source": [
    "### Create table"
   ]
  },
  {
   "cell_type": "code",
   "execution_count": null,
   "metadata": {},
   "outputs": [],
   "source": [
    "# with engine.connect() as conn:\n",
    "#     sqlq = \"\"\"\n",
    "#         create table if not exists public.gamelines\n",
    "#         (\n",
    "#             game_id bigint,\n",
    "#             source text,\n",
    "#             moneyLines json,\n",
    "#             pointSpreads json\n",
    "#         );\n",
    "#     \"\"\"\n",
    "#     conn.execute(sqlq)"
   ]
  },
  {
   "cell_type": "markdown",
   "metadata": {},
   "source": [
    "### Upload to postgres"
   ]
  },
  {
   "cell_type": "code",
   "execution_count": null,
   "metadata": {},
   "outputs": [],
   "source": [
    "with engine.begin() as conn:\n",
    "    for gameline in tqdm(upload):\n",
    "        gameline = {key: value for key, value in gameline.items() if value is not None}\n",
    "        conn.execute(\n",
    "            \"delete from gamelines where game_id = %s and source = %s\",\n",
    "            (gameline[\"game_id\"], gameline[\"source\"])\n",
    "        )\n",
    "        conn.execute(\n",
    "            \"insert into gamelines ({columns}) values ({values})\".format(\n",
    "                columns=\", \".join(gameline.keys()),\n",
    "                values=\", \".join([\"%s\"] * len(gameline))\n",
    "            ),\n",
    "            tuple(json.dumps(x) if type(x) == list else x for x in gameline.values())\n",
    "        )"
   ]
  }
 ],
 "metadata": {
  "kernelspec": {
   "display_name": "Python [conda env:airjordan]",
   "language": "python",
   "name": "conda-env-airjordan-py"
  },
  "language_info": {
   "codemirror_mode": {
    "name": "ipython",
    "version": 3
   },
   "file_extension": ".py",
   "mimetype": "text/x-python",
   "name": "python",
   "nbconvert_exporter": "python",
   "pygments_lexer": "ipython3",
   "version": "3.7.9"
  }
 },
 "nbformat": 4,
 "nbformat_minor": 4
}
