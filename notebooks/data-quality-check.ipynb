{
 "cells": [
  {
   "cell_type": "markdown",
   "metadata": {},
   "source": [
    "# Data Quality Checks"
   ]
  },
  {
   "cell_type": "code",
   "execution_count": null,
   "metadata": {},
   "outputs": [],
   "source": [
    "from airflow.models import Variable\n",
    "import pandas as pd\n",
    "import sqlalchemy\n",
    "from dotenv import load_dotenv\n",
    "\n",
    "load_dotenv();"
   ]
  },
  {
   "cell_type": "code",
   "execution_count": null,
   "metadata": {},
   "outputs": [],
   "source": [
    "POSTGRES_USER = Variable.get(\"POSTGRES_USER\")\n",
    "POSTGRES_PW = Variable.get(\"POSTGRES_PW\")\n",
    "POSTGRES_HOST = Variable.get(\"POSTGRES_HOST\")\n",
    "MSF_API_KEY = Variable.get(\"MSF_API_KEY\")\n",
    "postgres_connection_str = f'postgres+psycopg2://{POSTGRES_USER}:{POSTGRES_PW}@{POSTGRES_HOST}/nba'\n",
    "\n",
    "engine = sqlalchemy.create_engine(postgres_connection_str)"
   ]
  },
  {
   "cell_type": "markdown",
   "metadata": {},
   "source": [
    "## Games"
   ]
  },
  {
   "cell_type": "markdown",
   "metadata": {},
   "source": [
    "### Check that there are the correct number of games"
   ]
  },
  {
   "cell_type": "code",
   "execution_count": null,
   "metadata": {},
   "outputs": [],
   "source": [
    "with engine.connect() as conn:\n",
    "    sqlq = \"\"\"\n",
    "        select\n",
    "            season\n",
    "            , schedulestatus\n",
    "            , playedstatus\n",
    "            , count(*)\n",
    "            , max(starttime)\n",
    "            , min(starttime)\n",
    "        from games as gm\n",
    "        group by 1, 2, 3\n",
    "        order by 1, 2, 3\n",
    "    \"\"\"\n",
    "    season_games_count = pd.read_sql(sqlq, conn)"
   ]
  },
  {
   "cell_type": "code",
   "execution_count": null,
   "metadata": {},
   "outputs": [],
   "source": [
    "season_games_count"
   ]
  },
  {
   "cell_type": "markdown",
   "metadata": {},
   "source": [
    "## Game logs"
   ]
  },
  {
   "cell_type": "markdown",
   "metadata": {},
   "source": [
    "### Check for any missing games amongst game logs"
   ]
  },
  {
   "cell_type": "code",
   "execution_count": null,
   "metadata": {},
   "outputs": [],
   "source": [
    "with engine.connect() as conn:\n",
    "    sqlq = \"\"\"\n",
    "        select\n",
    "            season, count(*)\n",
    "        from games as gm\n",
    "        where\n",
    "            not exists (\n",
    "                select * from player_gamelogs as gl\n",
    "                where gl.game_id = gm.id\n",
    "            )\n",
    "            and gm.playedStatus = 'COMPLETED'\n",
    "        group by 1\n",
    "        order by 1\n",
    "    \"\"\"\n",
    "    missing_games_count = pd.read_sql(sqlq, conn)"
   ]
  },
  {
   "cell_type": "code",
   "execution_count": null,
   "metadata": {},
   "outputs": [],
   "source": [
    "missing_games_count"
   ]
  },
  {
   "cell_type": "code",
   "execution_count": null,
   "metadata": {},
   "outputs": [],
   "source": [
    "with engine.connect() as conn:\n",
    "    sqlq = \"\"\"\n",
    "        select\n",
    "            *\n",
    "        from games as gm\n",
    "        where\n",
    "            not exists (\n",
    "                select * from player_gamelogs as gl\n",
    "                where gl.game_id = gm.id\n",
    "            )\n",
    "            and gm.playedStatus = 'COMPLETED'\n",
    "    \"\"\"\n",
    "    missing_games = pd.read_sql(sqlq, conn)"
   ]
  },
  {
   "cell_type": "code",
   "execution_count": null,
   "metadata": {},
   "outputs": [],
   "source": [
    "missing_games"
   ]
  },
  {
   "cell_type": "markdown",
   "metadata": {},
   "source": [
    "### Check for mismatches between player and boxscore stats"
   ]
  },
  {
   "cell_type": "code",
   "execution_count": null,
   "metadata": {},
   "outputs": [],
   "source": [
    "with engine.connect() as conn:\n",
    "    sqlq = \"\"\"\n",
    "        with gamelog_totals as (\n",
    "            select\n",
    "                game_id\n",
    "                , team_id\n",
    "                , sum(stats_offense_pts) as pts\n",
    "            from player_gamelogs\n",
    "            group by 1, 2\n",
    "        )\n",
    "        select\n",
    "              gm.id\n",
    "            , gm.awayteam_id\n",
    "            , gm.hometeam_id\n",
    "            , gm.awayscoretotal\n",
    "            , gm.homescoretotal\n",
    "            , glh.pts as home_pts\n",
    "            , gla.pts as away_pts\n",
    "        from games as gm\n",
    "        left join gamelog_totals as glh\n",
    "            on glh.game_id = gm.id\n",
    "            and glh.team_id = gm.hometeam_id\n",
    "        left join gamelog_totals as gla\n",
    "            on gla.game_id = gm.id\n",
    "            and gla.team_id = gm.awayteam_id\n",
    "        where gm.playedStatus = 'COMPLETED'\n",
    "    \"\"\"\n",
    "    pts_totals = pd.read_sql(sqlq, conn)"
   ]
  },
  {
   "cell_type": "code",
   "execution_count": null,
   "metadata": {},
   "outputs": [],
   "source": [
    "pts_totals.loc[lambda x: (x[\"home_pts\"] != x[\"homescoretotal\"]) | (x[\"away_pts\"] != x[\"awayscoretotal\"])]"
   ]
  },
  {
   "cell_type": "markdown",
   "metadata": {},
   "source": [
    "### Check for correct number of starter"
   ]
  },
  {
   "cell_type": "code",
   "execution_count": null,
   "metadata": {},
   "outputs": [],
   "source": [
    "# TODO"
   ]
  },
  {
   "cell_type": "markdown",
   "metadata": {},
   "source": [
    "## Lineups"
   ]
  },
  {
   "cell_type": "markdown",
   "metadata": {},
   "source": [
    "### Check for missing game lineups"
   ]
  },
  {
   "cell_type": "markdown",
   "metadata": {},
   "source": [
    "#### Actual"
   ]
  },
  {
   "cell_type": "code",
   "execution_count": null,
   "metadata": {},
   "outputs": [],
   "source": [
    "with engine.connect() as conn:\n",
    "    sqlq = \"\"\"\n",
    "        select\n",
    "            season, count(*)\n",
    "        from games as gm\n",
    "        where\n",
    "            not exists (\n",
    "                select * from lineups as l\n",
    "                where\n",
    "                    l.game_id = gm.id\n",
    "                    and l.type = 'actual'\n",
    "            )\n",
    "            and gm.playedStatus = 'COMPLETED'\n",
    "        group by 1 \n",
    "        order by 1\n",
    "    \"\"\"\n",
    "    missing_lineups_count = pd.read_sql(sqlq, conn)"
   ]
  },
  {
   "cell_type": "code",
   "execution_count": null,
   "metadata": {},
   "outputs": [],
   "source": [
    "missing_lineups_count"
   ]
  },
  {
   "cell_type": "code",
   "execution_count": null,
   "metadata": {},
   "outputs": [],
   "source": [
    "with engine.connect() as conn:\n",
    "    sqlq = \"\"\"\n",
    "        select\n",
    "            *\n",
    "        from games as gm\n",
    "        where\n",
    "            not exists (\n",
    "                select * from lineups as l\n",
    "                where\n",
    "                    l.game_id = gm.id\n",
    "                    and l.type = 'actual'\n",
    "            )\n",
    "            and gm.playedStatus = 'COMPLETED'\n",
    "    \"\"\"\n",
    "    missing_lineups = pd.read_sql(sqlq, conn)"
   ]
  },
  {
   "cell_type": "code",
   "execution_count": null,
   "metadata": {},
   "outputs": [],
   "source": [
    "missing_lineups"
   ]
  },
  {
   "cell_type": "markdown",
   "metadata": {},
   "source": [
    "#### Expected"
   ]
  },
  {
   "cell_type": "code",
   "execution_count": null,
   "metadata": {},
   "outputs": [],
   "source": [
    "with engine.connect() as conn:\n",
    "    sqlq = \"\"\"\n",
    "        select\n",
    "            season, count(*)\n",
    "        from games as gm\n",
    "        where\n",
    "            not exists (\n",
    "                select * from lineups as l\n",
    "                where\n",
    "                    l.game_id = gm.id\n",
    "                    and l.type = 'expected'\n",
    "            )\n",
    "            and gm.playedStatus = 'COMPLETED'\n",
    "        group by 1\n",
    "        order by 1\n",
    "    \"\"\"\n",
    "    missing_expected_lineups_count = pd.read_sql(sqlq, conn)"
   ]
  },
  {
   "cell_type": "code",
   "execution_count": null,
   "metadata": {},
   "outputs": [],
   "source": [
    "missing_expected_lineups_count"
   ]
  },
  {
   "cell_type": "code",
   "execution_count": null,
   "metadata": {},
   "outputs": [],
   "source": [
    "missing_expected_lineups_count"
   ]
  },
  {
   "cell_type": "code",
   "execution_count": null,
   "metadata": {},
   "outputs": [],
   "source": [
    "with engine.connect() as conn:\n",
    "    sqlq = \"\"\"\n",
    "        select\n",
    "            *\n",
    "        from games as gm\n",
    "        where\n",
    "            not exists (\n",
    "                select * from lineups as l\n",
    "                where\n",
    "                    l.game_id = gm.id\n",
    "                    and l.type = 'expected'\n",
    "            )\n",
    "            and gm.playedStatus = 'COMPLETED'\n",
    "    \"\"\"\n",
    "    missing_expected_lineups = pd.read_sql(sqlq, conn)"
   ]
  },
  {
   "cell_type": "code",
   "execution_count": null,
   "metadata": {},
   "outputs": [],
   "source": [
    "missing_expected_lineups"
   ]
  },
  {
   "cell_type": "markdown",
   "metadata": {},
   "source": [
    "### Check for correct number of starters"
   ]
  },
  {
   "cell_type": "code",
   "execution_count": null,
   "metadata": {},
   "outputs": [],
   "source": [
    "# TODO"
   ]
  },
  {
   "cell_type": "markdown",
   "metadata": {},
   "source": [
    "## DFS"
   ]
  },
  {
   "cell_type": "code",
   "execution_count": null,
   "metadata": {},
   "outputs": [],
   "source": []
  }
 ],
 "metadata": {
  "kernelspec": {
   "display_name": "Python [conda env:airjordan]",
   "language": "python",
   "name": "conda-env-airjordan-py"
  },
  "language_info": {
   "codemirror_mode": {
    "name": "ipython",
    "version": 3
   },
   "file_extension": ".py",
   "mimetype": "text/x-python",
   "name": "python",
   "nbconvert_exporter": "python",
   "pygments_lexer": "ipython3",
   "version": "3.7.9"
  }
 },
 "nbformat": 4,
 "nbformat_minor": 4
}
